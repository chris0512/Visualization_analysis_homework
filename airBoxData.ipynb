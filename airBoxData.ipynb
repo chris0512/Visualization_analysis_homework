{
 "cells": [
  {
   "cell_type": "markdown",
   "source": [
    "### Answer 1"
   ],
   "metadata": {
    "collapsed": false
   }
  },
  {
   "cell_type": "code",
   "execution_count": 2,
   "metadata": {
    "collapsed": true
   },
   "outputs": [],
   "source": [
    "import pandas as pd\n",
    "import numpy as np"
   ]
  },
  {
   "cell_type": "code",
   "execution_count": 3,
   "outputs": [
    {
     "data": {
      "text/plain": "         siteID  year  month  day  hour  weekday  gps_lat  gps_lon  PM10  \\\n0  08BEAC0286D2  2020      7   18     1        6   23.876  120.529   4.8   \n1  08BEAC0286D2  2020      7   18     2        6   23.876  120.529   5.5   \n2  08BEAC0286D2  2020      7   18     3        6   23.876  120.529   5.7   \n3  08BEAC0286D2  2020      7   18     4        6   23.876  120.529   5.6   \n4  08BEAC0286D2  2020      7   18     5        6   23.876  120.529   6.3   \n\n      Tmp  PM2.5  PM1.0    RH      area  \n0  30.544    4.4    3.2  77.0  changhua  \n1  30.638    5.3    4.1  76.3  changhua  \n2  30.563    5.3    4.0  75.2  changhua  \n3  30.241    5.4    4.2  75.2  changhua  \n4  30.166    5.8    4.6  74.8  changhua  ",
      "text/html": "<div>\n<style scoped>\n    .dataframe tbody tr th:only-of-type {\n        vertical-align: middle;\n    }\n\n    .dataframe tbody tr th {\n        vertical-align: top;\n    }\n\n    .dataframe thead th {\n        text-align: right;\n    }\n</style>\n<table border=\"1\" class=\"dataframe\">\n  <thead>\n    <tr style=\"text-align: right;\">\n      <th></th>\n      <th>siteID</th>\n      <th>year</th>\n      <th>month</th>\n      <th>day</th>\n      <th>hour</th>\n      <th>weekday</th>\n      <th>gps_lat</th>\n      <th>gps_lon</th>\n      <th>PM10</th>\n      <th>Tmp</th>\n      <th>PM2.5</th>\n      <th>PM1.0</th>\n      <th>RH</th>\n      <th>area</th>\n    </tr>\n  </thead>\n  <tbody>\n    <tr>\n      <th>0</th>\n      <td>08BEAC0286D2</td>\n      <td>2020</td>\n      <td>7</td>\n      <td>18</td>\n      <td>1</td>\n      <td>6</td>\n      <td>23.876</td>\n      <td>120.529</td>\n      <td>4.8</td>\n      <td>30.544</td>\n      <td>4.4</td>\n      <td>3.2</td>\n      <td>77.0</td>\n      <td>changhua</td>\n    </tr>\n    <tr>\n      <th>1</th>\n      <td>08BEAC0286D2</td>\n      <td>2020</td>\n      <td>7</td>\n      <td>18</td>\n      <td>2</td>\n      <td>6</td>\n      <td>23.876</td>\n      <td>120.529</td>\n      <td>5.5</td>\n      <td>30.638</td>\n      <td>5.3</td>\n      <td>4.1</td>\n      <td>76.3</td>\n      <td>changhua</td>\n    </tr>\n    <tr>\n      <th>2</th>\n      <td>08BEAC0286D2</td>\n      <td>2020</td>\n      <td>7</td>\n      <td>18</td>\n      <td>3</td>\n      <td>6</td>\n      <td>23.876</td>\n      <td>120.529</td>\n      <td>5.7</td>\n      <td>30.563</td>\n      <td>5.3</td>\n      <td>4.0</td>\n      <td>75.2</td>\n      <td>changhua</td>\n    </tr>\n    <tr>\n      <th>3</th>\n      <td>08BEAC0286D2</td>\n      <td>2020</td>\n      <td>7</td>\n      <td>18</td>\n      <td>4</td>\n      <td>6</td>\n      <td>23.876</td>\n      <td>120.529</td>\n      <td>5.6</td>\n      <td>30.241</td>\n      <td>5.4</td>\n      <td>4.2</td>\n      <td>75.2</td>\n      <td>changhua</td>\n    </tr>\n    <tr>\n      <th>4</th>\n      <td>08BEAC0286D2</td>\n      <td>2020</td>\n      <td>7</td>\n      <td>18</td>\n      <td>5</td>\n      <td>6</td>\n      <td>23.876</td>\n      <td>120.529</td>\n      <td>6.3</td>\n      <td>30.166</td>\n      <td>5.8</td>\n      <td>4.6</td>\n      <td>74.8</td>\n      <td>changhua</td>\n    </tr>\n  </tbody>\n</table>\n</div>"
     },
     "execution_count": 3,
     "metadata": {},
     "output_type": "execute_result"
    }
   ],
   "source": [
    "# read the data in the data frame\n",
    "df = pd.read_csv('airBoxData.csv')\n",
    "df.head()"
   ],
   "metadata": {
    "collapsed": false,
    "pycharm": {
     "name": "#%%\n"
    }
   }
  },
  {
   "cell_type": "code",
   "execution_count": 4,
   "outputs": [
    {
     "data": {
      "text/plain": "              siteID  year  month  day  hour  weekday    gps_lat     gps_lon  \\\n23470   74DA38AF490C  2020      7   19    13        7  22.654000  120.285000   \n127455  74DA38EBF5FC  2020      7   23    23        4  22.335000  120.367000   \n127456  74DA38EBF5FC  2020      7   24     0        5  22.335000  120.367000   \n99884   74DA38EBF5E6  2020      7   18    23        6  24.118000  120.652000   \n99885   74DA38EBF5E6  2020      7   19     0        7  24.118000  120.652000   \n...              ...   ...    ...  ...   ...      ...        ...         ...   \n64829   74DA38F7C26E  2020      7   23    10        4  24.997000  121.313000   \n59673   74DA38EBF6AE  2020      7   23     4        4  23.716000  120.252000   \n48667   08BEAC0288D6  2020      7   21     2        2  24.983695  121.250315   \n48694   08BEAC0288D6  2020      7   24     1        5  24.983695  121.250315   \n85440   08BEAC0AB772  2020      7   18     5        6  24.126391  120.667134   \n\n             PM10        Tmp      PM2.5      PM1.0         RH        area  \n23470    0.000000  29.655000   0.000000   0.000000  56.000000   kaohsiung  \n127455   0.100000  30.708000   0.000000   0.000000  84.400000      taipei  \n127456   0.000000  30.736000   0.000000   0.000000  83.200000      taipei  \n99884    0.000000  30.068750   0.000000   0.000000  46.250000   taichuang  \n99885    0.000000  30.138000   0.000000   0.000000  51.700000   taichuang  \n...           ...        ...        ...        ...        ...         ...  \n64829   99.555556  32.823333  93.555556  62.888889  67.888889  new_taipei  \n59673   96.333333  30.548889  93.555556  69.000000  64.333333  new_taipei  \n48667   95.888889  31.750000  93.555556  83.666667  59.000000  new_taipei  \n48694   98.700000  32.402000  95.000000  85.100000  56.000000  new_taipei  \n85440   98.111111  28.020000  95.888889  92.555556  68.555556   taichuang  \n\n[150816 rows x 14 columns]",
      "text/html": "<div>\n<style scoped>\n    .dataframe tbody tr th:only-of-type {\n        vertical-align: middle;\n    }\n\n    .dataframe tbody tr th {\n        vertical-align: top;\n    }\n\n    .dataframe thead th {\n        text-align: right;\n    }\n</style>\n<table border=\"1\" class=\"dataframe\">\n  <thead>\n    <tr style=\"text-align: right;\">\n      <th></th>\n      <th>siteID</th>\n      <th>year</th>\n      <th>month</th>\n      <th>day</th>\n      <th>hour</th>\n      <th>weekday</th>\n      <th>gps_lat</th>\n      <th>gps_lon</th>\n      <th>PM10</th>\n      <th>Tmp</th>\n      <th>PM2.5</th>\n      <th>PM1.0</th>\n      <th>RH</th>\n      <th>area</th>\n    </tr>\n  </thead>\n  <tbody>\n    <tr>\n      <th>23470</th>\n      <td>74DA38AF490C</td>\n      <td>2020</td>\n      <td>7</td>\n      <td>19</td>\n      <td>13</td>\n      <td>7</td>\n      <td>22.654000</td>\n      <td>120.285000</td>\n      <td>0.000000</td>\n      <td>29.655000</td>\n      <td>0.000000</td>\n      <td>0.000000</td>\n      <td>56.000000</td>\n      <td>kaohsiung</td>\n    </tr>\n    <tr>\n      <th>127455</th>\n      <td>74DA38EBF5FC</td>\n      <td>2020</td>\n      <td>7</td>\n      <td>23</td>\n      <td>23</td>\n      <td>4</td>\n      <td>22.335000</td>\n      <td>120.367000</td>\n      <td>0.100000</td>\n      <td>30.708000</td>\n      <td>0.000000</td>\n      <td>0.000000</td>\n      <td>84.400000</td>\n      <td>taipei</td>\n    </tr>\n    <tr>\n      <th>127456</th>\n      <td>74DA38EBF5FC</td>\n      <td>2020</td>\n      <td>7</td>\n      <td>24</td>\n      <td>0</td>\n      <td>5</td>\n      <td>22.335000</td>\n      <td>120.367000</td>\n      <td>0.000000</td>\n      <td>30.736000</td>\n      <td>0.000000</td>\n      <td>0.000000</td>\n      <td>83.200000</td>\n      <td>taipei</td>\n    </tr>\n    <tr>\n      <th>99884</th>\n      <td>74DA38EBF5E6</td>\n      <td>2020</td>\n      <td>7</td>\n      <td>18</td>\n      <td>23</td>\n      <td>6</td>\n      <td>24.118000</td>\n      <td>120.652000</td>\n      <td>0.000000</td>\n      <td>30.068750</td>\n      <td>0.000000</td>\n      <td>0.000000</td>\n      <td>46.250000</td>\n      <td>taichuang</td>\n    </tr>\n    <tr>\n      <th>99885</th>\n      <td>74DA38EBF5E6</td>\n      <td>2020</td>\n      <td>7</td>\n      <td>19</td>\n      <td>0</td>\n      <td>7</td>\n      <td>24.118000</td>\n      <td>120.652000</td>\n      <td>0.000000</td>\n      <td>30.138000</td>\n      <td>0.000000</td>\n      <td>0.000000</td>\n      <td>51.700000</td>\n      <td>taichuang</td>\n    </tr>\n    <tr>\n      <th>...</th>\n      <td>...</td>\n      <td>...</td>\n      <td>...</td>\n      <td>...</td>\n      <td>...</td>\n      <td>...</td>\n      <td>...</td>\n      <td>...</td>\n      <td>...</td>\n      <td>...</td>\n      <td>...</td>\n      <td>...</td>\n      <td>...</td>\n      <td>...</td>\n    </tr>\n    <tr>\n      <th>64829</th>\n      <td>74DA38F7C26E</td>\n      <td>2020</td>\n      <td>7</td>\n      <td>23</td>\n      <td>10</td>\n      <td>4</td>\n      <td>24.997000</td>\n      <td>121.313000</td>\n      <td>99.555556</td>\n      <td>32.823333</td>\n      <td>93.555556</td>\n      <td>62.888889</td>\n      <td>67.888889</td>\n      <td>new_taipei</td>\n    </tr>\n    <tr>\n      <th>59673</th>\n      <td>74DA38EBF6AE</td>\n      <td>2020</td>\n      <td>7</td>\n      <td>23</td>\n      <td>4</td>\n      <td>4</td>\n      <td>23.716000</td>\n      <td>120.252000</td>\n      <td>96.333333</td>\n      <td>30.548889</td>\n      <td>93.555556</td>\n      <td>69.000000</td>\n      <td>64.333333</td>\n      <td>new_taipei</td>\n    </tr>\n    <tr>\n      <th>48667</th>\n      <td>08BEAC0288D6</td>\n      <td>2020</td>\n      <td>7</td>\n      <td>21</td>\n      <td>2</td>\n      <td>2</td>\n      <td>24.983695</td>\n      <td>121.250315</td>\n      <td>95.888889</td>\n      <td>31.750000</td>\n      <td>93.555556</td>\n      <td>83.666667</td>\n      <td>59.000000</td>\n      <td>new_taipei</td>\n    </tr>\n    <tr>\n      <th>48694</th>\n      <td>08BEAC0288D6</td>\n      <td>2020</td>\n      <td>7</td>\n      <td>24</td>\n      <td>1</td>\n      <td>5</td>\n      <td>24.983695</td>\n      <td>121.250315</td>\n      <td>98.700000</td>\n      <td>32.402000</td>\n      <td>95.000000</td>\n      <td>85.100000</td>\n      <td>56.000000</td>\n      <td>new_taipei</td>\n    </tr>\n    <tr>\n      <th>85440</th>\n      <td>08BEAC0AB772</td>\n      <td>2020</td>\n      <td>7</td>\n      <td>18</td>\n      <td>5</td>\n      <td>6</td>\n      <td>24.126391</td>\n      <td>120.667134</td>\n      <td>98.111111</td>\n      <td>28.020000</td>\n      <td>95.888889</td>\n      <td>92.555556</td>\n      <td>68.555556</td>\n      <td>taichuang</td>\n    </tr>\n  </tbody>\n</table>\n<p>150816 rows × 14 columns</p>\n</div>"
     },
     "execution_count": 4,
     "metadata": {},
     "output_type": "execute_result"
    }
   ],
   "source": [
    "# Display all records sorted by the PM2.5 values\n",
    "df.sort_values(by=['PM2.5'], inplace=True)\n",
    "df"
   ],
   "metadata": {
    "collapsed": false,
    "pycharm": {
     "name": "#%%\n"
    }
   }
  },
  {
   "cell_type": "code",
   "execution_count": 5,
   "outputs": [
    {
     "data": {
      "text/plain": "area\nNone               1802\nchanghua           8556\nchiayi_city        2190\nchiayi_county      2975\nhsinchu_city       2995\nhsinchu_county     3566\nkaohsiung         13048\nkeelung             721\nmiaoli             6274\nnantou             3860\nnew_taipei        20847\npingtung           3344\ntaichuang         36755\ntainan             8303\ntaipei            20621\ntaitung             338\ntaoyuan            5055\nyilan              2672\nyunlin             2116\nName: siteID, dtype: int64"
     },
     "execution_count": 5,
     "metadata": {},
     "output_type": "execute_result"
    }
   ],
   "source": [
    "# Calculate and show how many devices in each city\n",
    "df.groupby('area').count()['siteID']"
   ],
   "metadata": {
    "collapsed": false,
    "pycharm": {
     "name": "#%%\n"
    }
   }
  },
  {
   "cell_type": "code",
   "execution_count": 6,
   "outputs": [
    {
     "data": {
      "text/plain": "9.412059189977079"
     },
     "execution_count": 6,
     "metadata": {},
     "output_type": "execute_result"
    }
   ],
   "source": [
    "# Display the average PM2.5 values(over the whole time span) of each device and sort them by\n",
    "# the PM2.5 values. You can identify which device location with the best/worst PM2.5 quality\n",
    "# and observe some unreasonable measurements\n",
    "df[\"PM2.5\"].mean() # the average PM2.5 values"
   ],
   "metadata": {
    "collapsed": false,
    "pycharm": {
     "name": "#%%\n"
    }
   }
  },
  {
   "cell_type": "code",
   "execution_count": 7,
   "outputs": [
    {
     "data": {
      "text/plain": "'08BEAC0AB772'"
     },
     "execution_count": 7,
     "metadata": {},
     "output_type": "execute_result"
    }
   ],
   "source": [
    "df.sort_values(by=['PM2.5'], ascending=False)['siteID'].iloc[0]  # worst PM2.5 quality"
   ],
   "metadata": {
    "collapsed": false,
    "pycharm": {
     "name": "#%%\n"
    }
   }
  },
  {
   "cell_type": "code",
   "execution_count": 8,
   "outputs": [
    {
     "data": {
      "text/plain": "'74DA38AF490C'"
     },
     "execution_count": 8,
     "metadata": {},
     "output_type": "execute_result"
    }
   ],
   "source": [
    "df.sort_values(by=['PM2.5'], ascending=False)['siteID'].iloc[-1] # best PM2.5 quality"
   ],
   "metadata": {
    "collapsed": false,
    "pycharm": {
     "name": "#%%\n"
    }
   }
  },
  {
   "cell_type": "code",
   "execution_count": 9,
   "outputs": [
    {
     "data": {
      "text/plain": "                        PM2.5\narea                         \ntaichuang       312959.858333\nnew_taipei      283340.973557\ntaipei          207267.270743\nkaohsiung        92412.913203\nmiaoli           75789.629365\nchanghua         69820.691017\ntainan           61048.354942\ntaoyuan          48043.605520\npingtung         34792.841991\nhsinchu_county   32493.121140\nnantou           32283.193182\nhsinchu_city     25410.007540\nchiayi_county    22484.633838\nNone             18940.610101\nyunlin           15093.919697\nyilan            14572.271248\nchiayi_city      14215.270707\nkeelung           9108.553319\ntaitung            936.488889",
      "text/html": "<div>\n<style scoped>\n    .dataframe tbody tr th:only-of-type {\n        vertical-align: middle;\n    }\n\n    .dataframe tbody tr th {\n        vertical-align: top;\n    }\n\n    .dataframe thead th {\n        text-align: right;\n    }\n</style>\n<table border=\"1\" class=\"dataframe\">\n  <thead>\n    <tr style=\"text-align: right;\">\n      <th></th>\n      <th>PM2.5</th>\n    </tr>\n    <tr>\n      <th>area</th>\n      <th></th>\n    </tr>\n  </thead>\n  <tbody>\n    <tr>\n      <th>taichuang</th>\n      <td>312959.858333</td>\n    </tr>\n    <tr>\n      <th>new_taipei</th>\n      <td>283340.973557</td>\n    </tr>\n    <tr>\n      <th>taipei</th>\n      <td>207267.270743</td>\n    </tr>\n    <tr>\n      <th>kaohsiung</th>\n      <td>92412.913203</td>\n    </tr>\n    <tr>\n      <th>miaoli</th>\n      <td>75789.629365</td>\n    </tr>\n    <tr>\n      <th>changhua</th>\n      <td>69820.691017</td>\n    </tr>\n    <tr>\n      <th>tainan</th>\n      <td>61048.354942</td>\n    </tr>\n    <tr>\n      <th>taoyuan</th>\n      <td>48043.605520</td>\n    </tr>\n    <tr>\n      <th>pingtung</th>\n      <td>34792.841991</td>\n    </tr>\n    <tr>\n      <th>hsinchu_county</th>\n      <td>32493.121140</td>\n    </tr>\n    <tr>\n      <th>nantou</th>\n      <td>32283.193182</td>\n    </tr>\n    <tr>\n      <th>hsinchu_city</th>\n      <td>25410.007540</td>\n    </tr>\n    <tr>\n      <th>chiayi_county</th>\n      <td>22484.633838</td>\n    </tr>\n    <tr>\n      <th>None</th>\n      <td>18940.610101</td>\n    </tr>\n    <tr>\n      <th>yunlin</th>\n      <td>15093.919697</td>\n    </tr>\n    <tr>\n      <th>yilan</th>\n      <td>14572.271248</td>\n    </tr>\n    <tr>\n      <th>chiayi_city</th>\n      <td>14215.270707</td>\n    </tr>\n    <tr>\n      <th>keelung</th>\n      <td>9108.553319</td>\n    </tr>\n    <tr>\n      <th>taitung</th>\n      <td>936.488889</td>\n    </tr>\n  </tbody>\n</table>\n</div>"
     },
     "execution_count": 9,
     "metadata": {},
     "output_type": "execute_result"
    }
   ],
   "source": [
    "# Display the average PM2.5 values(over the whole time span) of each city and sort them by\n",
    "# the PM2.5 values. You can identify which city has best/worst air quality\n",
    "df_city_pm25 = df[['PM2.5', 'area']]\n",
    "df_city_pm25.groupby('area').agg({'PM2.5':sum}).sort_values(by='PM2.5', ascending=False)"
   ],
   "metadata": {
    "collapsed": false,
    "pycharm": {
     "name": "#%%\n"
    }
   }
  },
  {
   "cell_type": "code",
   "execution_count": 10,
   "outputs": [
    {
     "data": {
      "text/plain": "                    PM2.5\narea                     \nnew_taipei      13.591451\nkeelung         12.633222\nmiaoli          12.079954\nNone            10.510882\npingtung        10.404558\ntaipei          10.051272\ntaoyuan          9.504175\nhsinchu_county   9.111924\ntaichuang        8.514756\nhsinchu_city     8.484143\nnantou           8.363522\nchanghua         8.160436\nchiayi_county    7.557860\ntainan           7.352566\nyunlin           7.133232\nkaohsiung        7.082535\nchiayi_city      6.490991\nyilan            5.453694\ntaitung          2.770677",
      "text/html": "<div>\n<style scoped>\n    .dataframe tbody tr th:only-of-type {\n        vertical-align: middle;\n    }\n\n    .dataframe tbody tr th {\n        vertical-align: top;\n    }\n\n    .dataframe thead th {\n        text-align: right;\n    }\n</style>\n<table border=\"1\" class=\"dataframe\">\n  <thead>\n    <tr style=\"text-align: right;\">\n      <th></th>\n      <th>PM2.5</th>\n    </tr>\n    <tr>\n      <th>area</th>\n      <th></th>\n    </tr>\n  </thead>\n  <tbody>\n    <tr>\n      <th>new_taipei</th>\n      <td>13.591451</td>\n    </tr>\n    <tr>\n      <th>keelung</th>\n      <td>12.633222</td>\n    </tr>\n    <tr>\n      <th>miaoli</th>\n      <td>12.079954</td>\n    </tr>\n    <tr>\n      <th>None</th>\n      <td>10.510882</td>\n    </tr>\n    <tr>\n      <th>pingtung</th>\n      <td>10.404558</td>\n    </tr>\n    <tr>\n      <th>taipei</th>\n      <td>10.051272</td>\n    </tr>\n    <tr>\n      <th>taoyuan</th>\n      <td>9.504175</td>\n    </tr>\n    <tr>\n      <th>hsinchu_county</th>\n      <td>9.111924</td>\n    </tr>\n    <tr>\n      <th>taichuang</th>\n      <td>8.514756</td>\n    </tr>\n    <tr>\n      <th>hsinchu_city</th>\n      <td>8.484143</td>\n    </tr>\n    <tr>\n      <th>nantou</th>\n      <td>8.363522</td>\n    </tr>\n    <tr>\n      <th>changhua</th>\n      <td>8.160436</td>\n    </tr>\n    <tr>\n      <th>chiayi_county</th>\n      <td>7.557860</td>\n    </tr>\n    <tr>\n      <th>tainan</th>\n      <td>7.352566</td>\n    </tr>\n    <tr>\n      <th>yunlin</th>\n      <td>7.133232</td>\n    </tr>\n    <tr>\n      <th>kaohsiung</th>\n      <td>7.082535</td>\n    </tr>\n    <tr>\n      <th>chiayi_city</th>\n      <td>6.490991</td>\n    </tr>\n    <tr>\n      <th>yilan</th>\n      <td>5.453694</td>\n    </tr>\n    <tr>\n      <th>taitung</th>\n      <td>2.770677</td>\n    </tr>\n  </tbody>\n</table>\n</div>"
     },
     "execution_count": 10,
     "metadata": {},
     "output_type": "execute_result"
    }
   ],
   "source": [
    "# Calculate the average PM2.5 of each day within each city.\n",
    "# List the results by sorting average PM2.5 values in ascending order within each city,\n",
    "# i.e. you should put average PM2.5 values of the same city together.\n",
    "# (We do not mind the order among cities).\n",
    "# You can identity which day has the best/worst air quality in each city\n",
    "df_city_pm25 = df[['PM2.5', 'area']]\n",
    "df_city_pm25.groupby('area').agg({'PM2.5': np.average}).sort_values(by='PM2.5', ascending=False)\n"
   ],
   "metadata": {
    "collapsed": false,
    "pycharm": {
     "name": "#%%\n"
    }
   }
  },
  {
   "cell_type": "code",
   "execution_count": 11,
   "outputs": [],
   "source": [
    "# Calculate average PM 2.5 values (all devices in Taiwan) of each hour on Friday and\n",
    "# do the same thing for Saturday. List the results by a table.\n",
    "# The table has three columns whose names should be “hour”, “Friday_PM2.5” and “Saturday_PM2.5\n",
    "# The result should be sorted by “hour” in ascending order You can observe the\n",
    "# difference of air quality change over time between Friday and Saturday.\n"
   ],
   "metadata": {
    "collapsed": false,
    "pycharm": {
     "name": "#%%\n"
    }
   }
  },
  {
   "cell_type": "code",
   "execution_count": 12,
   "outputs": [
    {
     "data": {
      "text/plain": "        Friday_PM2.5  Saturday_PM2.5      PM2.5  hour\n103779           0.0             NaN   4.111111     0\n52935            0.0             NaN  16.800000     0\n132621           NaN             0.0  10.000000     0\n75910            NaN             NaN  10.000000     0\n38050            NaN             NaN  16.800000     0\n...              ...             ...        ...   ...\n140740          23.0             NaN  15.800000    23\n19800            NaN            23.0  15.800000    23\n26751            NaN             NaN  15.800000    23\n81439            NaN             NaN   3.200000    23\n114352           NaN             NaN   4.166667    23\n\n[150816 rows x 4 columns]",
      "text/html": "<div>\n<style scoped>\n    .dataframe tbody tr th:only-of-type {\n        vertical-align: middle;\n    }\n\n    .dataframe tbody tr th {\n        vertical-align: top;\n    }\n\n    .dataframe thead th {\n        text-align: right;\n    }\n</style>\n<table border=\"1\" class=\"dataframe\">\n  <thead>\n    <tr style=\"text-align: right;\">\n      <th></th>\n      <th>Friday_PM2.5</th>\n      <th>Saturday_PM2.5</th>\n      <th>PM2.5</th>\n      <th>hour</th>\n    </tr>\n  </thead>\n  <tbody>\n    <tr>\n      <th>103779</th>\n      <td>0.0</td>\n      <td>NaN</td>\n      <td>4.111111</td>\n      <td>0</td>\n    </tr>\n    <tr>\n      <th>52935</th>\n      <td>0.0</td>\n      <td>NaN</td>\n      <td>16.800000</td>\n      <td>0</td>\n    </tr>\n    <tr>\n      <th>132621</th>\n      <td>NaN</td>\n      <td>0.0</td>\n      <td>10.000000</td>\n      <td>0</td>\n    </tr>\n    <tr>\n      <th>75910</th>\n      <td>NaN</td>\n      <td>NaN</td>\n      <td>10.000000</td>\n      <td>0</td>\n    </tr>\n    <tr>\n      <th>38050</th>\n      <td>NaN</td>\n      <td>NaN</td>\n      <td>16.800000</td>\n      <td>0</td>\n    </tr>\n    <tr>\n      <th>...</th>\n      <td>...</td>\n      <td>...</td>\n      <td>...</td>\n      <td>...</td>\n    </tr>\n    <tr>\n      <th>140740</th>\n      <td>23.0</td>\n      <td>NaN</td>\n      <td>15.800000</td>\n      <td>23</td>\n    </tr>\n    <tr>\n      <th>19800</th>\n      <td>NaN</td>\n      <td>23.0</td>\n      <td>15.800000</td>\n      <td>23</td>\n    </tr>\n    <tr>\n      <th>26751</th>\n      <td>NaN</td>\n      <td>NaN</td>\n      <td>15.800000</td>\n      <td>23</td>\n    </tr>\n    <tr>\n      <th>81439</th>\n      <td>NaN</td>\n      <td>NaN</td>\n      <td>3.200000</td>\n      <td>23</td>\n    </tr>\n    <tr>\n      <th>114352</th>\n      <td>NaN</td>\n      <td>NaN</td>\n      <td>4.166667</td>\n      <td>23</td>\n    </tr>\n  </tbody>\n</table>\n<p>150816 rows × 4 columns</p>\n</div>"
     },
     "execution_count": 12,
     "metadata": {},
     "output_type": "execute_result"
    }
   ],
   "source": [
    "df['Friday_PM2.5'] = df[df.weekday == 5].hour\n",
    "df['Saturday_PM2.5'] = df[df.weekday == 6].hour\n",
    "df[['Friday_PM2.5', \"Saturday_PM2.5\", \"PM2.5\", \"hour\"]].sort_values(by='hour', ascending=True)"
   ],
   "metadata": {
    "collapsed": false,
    "pycharm": {
     "name": "#%%\n"
    }
   }
  },
  {
   "cell_type": "markdown",
   "source": [
    "### Answer 2"
   ],
   "metadata": {
    "collapsed": false
   }
  },
  {
   "cell_type": "code",
   "execution_count": 13,
   "outputs": [
    {
     "data": {
      "text/plain": "[<matplotlib.lines.Line2D at 0x1441d6190>]"
     },
     "execution_count": 13,
     "metadata": {},
     "output_type": "execute_result"
    },
    {
     "data": {
      "text/plain": "<Figure size 432x288 with 1 Axes>",
      "image/png": "[encoded data removed]"
     },
     "metadata": {
      "needs_background": "light"
     },
     "output_type": "display_data"
    }
   ],
   "source": [
    "# Is the PM2.5 related to PM1.0? You should choose and create a visualization to support\n",
    "# your answer\n",
    "import matplotlib.pyplot as plt\n",
    "\n",
    "plt.plot(df['PM2.5'], df['PM1.0'])"
   ],
   "metadata": {
    "collapsed": false,
    "pycharm": {
     "name": "#%%\n"
    }
   }
  },
  {
   "cell_type": "code",
   "execution_count": 57,
   "outputs": [
    {
     "data": {
      "text/plain": "        month  day      PM2.5       area\n127456      7   24   0.000000     taipei\n127457      7   24   0.000000     taipei\n103444      7   24   0.000000  taichuang\n127458      7   24   0.000000     taipei\n127459      7   24   0.000000     taipei\n...       ...  ...        ...        ...\n80157       7   24  76.400000  taichuang\n83638       7   24  79.222222  taichuang\n115383      7   24  83.600000     taipei\n83518       7   24  86.400000  taichuang\n83637       7   24  91.500000  taichuang\n\n[9964 rows x 4 columns]",
      "text/html": "<div>\n<style scoped>\n    .dataframe tbody tr th:only-of-type {\n        vertical-align: middle;\n    }\n\n    .dataframe tbody tr th {\n        vertical-align: top;\n    }\n\n    .dataframe thead th {\n        text-align: right;\n    }\n</style>\n<table border=\"1\" class=\"dataframe\">\n  <thead>\n    <tr style=\"text-align: right;\">\n      <th></th>\n      <th>month</th>\n      <th>day</th>\n      <th>PM2.5</th>\n      <th>area</th>\n    </tr>\n  </thead>\n  <tbody>\n    <tr>\n      <th>127456</th>\n      <td>7</td>\n      <td>24</td>\n      <td>0.000000</td>\n      <td>taipei</td>\n    </tr>\n    <tr>\n      <th>127457</th>\n      <td>7</td>\n      <td>24</td>\n      <td>0.000000</td>\n      <td>taipei</td>\n    </tr>\n    <tr>\n      <th>103444</th>\n      <td>7</td>\n      <td>24</td>\n      <td>0.000000</td>\n      <td>taichuang</td>\n    </tr>\n    <tr>\n      <th>127458</th>\n      <td>7</td>\n      <td>24</td>\n      <td>0.000000</td>\n      <td>taipei</td>\n    </tr>\n    <tr>\n      <th>127459</th>\n      <td>7</td>\n      <td>24</td>\n      <td>0.000000</td>\n      <td>taipei</td>\n    </tr>\n    <tr>\n      <th>...</th>\n      <td>...</td>\n      <td>...</td>\n      <td>...</td>\n      <td>...</td>\n    </tr>\n    <tr>\n      <th>80157</th>\n      <td>7</td>\n      <td>24</td>\n      <td>76.400000</td>\n      <td>taichuang</td>\n    </tr>\n    <tr>\n      <th>83638</th>\n      <td>7</td>\n      <td>24</td>\n      <td>79.222222</td>\n      <td>taichuang</td>\n    </tr>\n    <tr>\n      <th>115383</th>\n      <td>7</td>\n      <td>24</td>\n      <td>83.600000</td>\n      <td>taipei</td>\n    </tr>\n    <tr>\n      <th>83518</th>\n      <td>7</td>\n      <td>24</td>\n      <td>86.400000</td>\n      <td>taichuang</td>\n    </tr>\n    <tr>\n      <th>83637</th>\n      <td>7</td>\n      <td>24</td>\n      <td>91.500000</td>\n      <td>taichuang</td>\n    </tr>\n  </tbody>\n</table>\n<p>9964 rows × 4 columns</p>\n</div>"
     },
     "execution_count": 57,
     "metadata": {},
     "output_type": "execute_result"
    }
   ],
   "source": [
    "#Among Taipei, Pingtung, Nantou and Taichuang, which city has the most significant\n",
    "# difference PM2.5 change pattern over the whole day on July 24 from the other three cities?\n",
    "# You should choose and create a visualization to support your answer.\n",
    "df_city = df.loc[(df.month == 7) & (df.day == 24) & (df.area.isin(['taipei', 'pingtung', 'nantou', 'taichuang']))][['month', 'day', 'PM2.5', 'area']]\n",
    "\n",
    "df_city\n"
   ],
   "metadata": {
    "collapsed": false,
    "pycharm": {
     "name": "#%%\n"
    }
   }
  },
  {
   "cell_type": "code",
   "execution_count": 65,
   "outputs": [
    {
     "data": {
      "text/plain": "        area         PM2.5\n0     nantou   4583.611364\n1   pingtung   4970.760498\n2  taichuang  47963.389033\n3     taipei  28359.218182",
      "text/html": "<div>\n<style scoped>\n    .dataframe tbody tr th:only-of-type {\n        vertical-align: middle;\n    }\n\n    .dataframe tbody tr th {\n        vertical-align: top;\n    }\n\n    .dataframe thead th {\n        text-align: right;\n    }\n</style>\n<table border=\"1\" class=\"dataframe\">\n  <thead>\n    <tr style=\"text-align: right;\">\n      <th></th>\n      <th>area</th>\n      <th>PM2.5</th>\n    </tr>\n  </thead>\n  <tbody>\n    <tr>\n      <th>0</th>\n      <td>nantou</td>\n      <td>4583.611364</td>\n    </tr>\n    <tr>\n      <th>1</th>\n      <td>pingtung</td>\n      <td>4970.760498</td>\n    </tr>\n    <tr>\n      <th>2</th>\n      <td>taichuang</td>\n      <td>47963.389033</td>\n    </tr>\n    <tr>\n      <th>3</th>\n      <td>taipei</td>\n      <td>28359.218182</td>\n    </tr>\n  </tbody>\n</table>\n</div>"
     },
     "execution_count": 65,
     "metadata": {},
     "output_type": "execute_result"
    }
   ],
   "source": [
    "df_city_pm25 = df_city.groupby('area')[['area', 'PM2.5']].sum().reset_index()\n",
    "df_city_pm25"
   ],
   "metadata": {
    "collapsed": false,
    "pycharm": {
     "name": "#%%\n"
    }
   }
  },
  {
   "cell_type": "code",
   "execution_count": 71,
   "outputs": [
    {
     "data": {
      "text/plain": "<seaborn.axisgrid.FacetGrid at 0x174285c40>"
     },
     "execution_count": 71,
     "metadata": {},
     "output_type": "execute_result"
    },
    {
     "data": {
      "text/plain": "<Figure size 360x360 with 1 Axes>",
      "image/png": "[encoded data removed]"
     },
     "metadata": {
      "needs_background": "light"
     },
     "output_type": "display_data"
    }
   ],
   "source": [
    "import seaborn as sns\n",
    "sns.catplot(x='area', y='PM2.5',kind='bar', data=df_city_pm25)"
   ],
   "metadata": {
    "collapsed": false,
    "pycharm": {
     "name": "#%%\n"
    }
   }
  },
  {
   "cell_type": "code",
   "execution_count": null,
   "outputs": [],
   "source": [
    "#Assume we only consider PM2.5 to evaluate the air quality) Please implement the following steps to answer which city (Taipei or Tainan) has a better air quality."
   ],
   "metadata": {
    "collapsed": false,
    "pycharm": {
     "name": "#%%\n"
    }
   }
  },
  {
   "cell_type": "code",
   "execution_count": 72,
   "outputs": [
    {
     "data": {
      "text/plain": "              siteID  year  month  day  hour  weekday    gps_lat     gps_lon  \\\n3487    74DA38AF47B4  2020      7   21     7        2  24.086000  120.538000   \n89429   74DA38AF481E  2020      7   22     0        3  24.161000  120.668000   \n5062    74DA38B05366  2020      7   24     0        5  23.994000  120.564000   \n118729  74DA38AF47A2  2020      7   24    15        5  25.057000  121.517000   \n138032  74DA38B0514E  2020      7   24     4        5  25.018000  121.304000   \n...              ...   ...    ...  ...   ...      ...        ...         ...   \n64829   74DA38F7C26E  2020      7   23    10        4  24.997000  121.313000   \n59673   74DA38EBF6AE  2020      7   23     4        4  23.716000  120.252000   \n48667   08BEAC0288D6  2020      7   21     2        2  24.983695  121.250315   \n48694   08BEAC0288D6  2020      7   24     1        5  24.983695  121.250315   \n85440   08BEAC0AB772  2020      7   18     5        6  24.126391  120.667134   \n\n             PM10        Tmp      PM2.5      PM1.0          RH        area  \\\n3487     0.090909  31.173636   0.090909   0.000000   64.000000    changhua   \n89429    0.909091  30.810000   0.090909   0.000000  100.000000   taichuang   \n5062     0.909091  29.348182   0.090909   0.000000   57.181818    changhua   \n118729   0.181818  30.552727   0.090909   0.000000   75.272727      taipei   \n138032   0.272727  26.929091   0.090909   0.000000   55.454545     taoyuan   \n...           ...        ...        ...        ...         ...         ...   \n64829   99.555556  32.823333  93.555556  62.888889   67.888889  new_taipei   \n59673   96.333333  30.548889  93.555556  69.000000   64.333333  new_taipei   \n48667   95.888889  31.750000  93.555556  83.666667   59.000000  new_taipei   \n48694   98.700000  32.402000  95.000000  85.100000   56.000000  new_taipei   \n85440   98.111111  28.020000  95.888889  92.555556   68.555556   taichuang   \n\n        Friday_PM2.5  Saturday_PM2.5  \n3487             NaN             NaN  \n89429            NaN             NaN  \n5062             0.0             NaN  \n118729          15.0             NaN  \n138032           4.0             NaN  \n...              ...             ...  \n64829            NaN             NaN  \n59673            NaN             NaN  \n48667            NaN             NaN  \n48694            1.0             NaN  \n85440            NaN             5.0  \n\n[142452 rows x 16 columns]",
      "text/html": "<div>\n<style scoped>\n    .dataframe tbody tr th:only-of-type {\n        vertical-align: middle;\n    }\n\n    .dataframe tbody tr th {\n        vertical-align: top;\n    }\n\n    .dataframe thead th {\n        text-align: right;\n    }\n</style>\n<table border=\"1\" class=\"dataframe\">\n  <thead>\n    <tr style=\"text-align: right;\">\n      <th></th>\n      <th>siteID</th>\n      <th>year</th>\n      <th>month</th>\n      <th>day</th>\n      <th>hour</th>\n      <th>weekday</th>\n      <th>gps_lat</th>\n      <th>gps_lon</th>\n      <th>PM10</th>\n      <th>Tmp</th>\n      <th>PM2.5</th>\n      <th>PM1.0</th>\n      <th>RH</th>\n      <th>area</th>\n      <th>Friday_PM2.5</th>\n      <th>Saturday_PM2.5</th>\n    </tr>\n  </thead>\n  <tbody>\n    <tr>\n      <th>3487</th>\n      <td>74DA38AF47B4</td>\n      <td>2020</td>\n      <td>7</td>\n      <td>21</td>\n      <td>7</td>\n      <td>2</td>\n      <td>24.086000</td>\n      <td>120.538000</td>\n      <td>0.090909</td>\n      <td>31.173636</td>\n      <td>0.090909</td>\n      <td>0.000000</td>\n      <td>64.000000</td>\n      <td>changhua</td>\n      <td>NaN</td>\n      <td>NaN</td>\n    </tr>\n    <tr>\n      <th>89429</th>\n      <td>74DA38AF481E</td>\n      <td>2020</td>\n      <td>7</td>\n      <td>22</td>\n      <td>0</td>\n      <td>3</td>\n      <td>24.161000</td>\n      <td>120.668000</td>\n      <td>0.909091</td>\n      <td>30.810000</td>\n      <td>0.090909</td>\n      <td>0.000000</td>\n      <td>100.000000</td>\n      <td>taichuang</td>\n      <td>NaN</td>\n      <td>NaN</td>\n    </tr>\n    <tr>\n      <th>5062</th>\n      <td>74DA38B05366</td>\n      <td>2020</td>\n      <td>7</td>\n      <td>24</td>\n      <td>0</td>\n      <td>5</td>\n      <td>23.994000</td>\n      <td>120.564000</td>\n      <td>0.909091</td>\n      <td>29.348182</td>\n      <td>0.090909</td>\n      <td>0.000000</td>\n      <td>57.181818</td>\n      <td>changhua</td>\n      <td>0.0</td>\n      <td>NaN</td>\n    </tr>\n    <tr>\n      <th>118729</th>\n      <td>74DA38AF47A2</td>\n      <td>2020</td>\n      <td>7</td>\n      <td>24</td>\n      <td>15</td>\n      <td>5</td>\n      <td>25.057000</td>\n      <td>121.517000</td>\n      <td>0.181818</td>\n      <td>30.552727</td>\n      <td>0.090909</td>\n      <td>0.000000</td>\n      <td>75.272727</td>\n      <td>taipei</td>\n      <td>15.0</td>\n      <td>NaN</td>\n    </tr>\n    <tr>\n      <th>138032</th>\n      <td>74DA38B0514E</td>\n      <td>2020</td>\n      <td>7</td>\n      <td>24</td>\n      <td>4</td>\n      <td>5</td>\n      <td>25.018000</td>\n      <td>121.304000</td>\n      <td>0.272727</td>\n      <td>26.929091</td>\n      <td>0.090909</td>\n      <td>0.000000</td>\n      <td>55.454545</td>\n      <td>taoyuan</td>\n      <td>4.0</td>\n      <td>NaN</td>\n    </tr>\n    <tr>\n      <th>...</th>\n      <td>...</td>\n      <td>...</td>\n      <td>...</td>\n      <td>...</td>\n      <td>...</td>\n      <td>...</td>\n      <td>...</td>\n      <td>...</td>\n      <td>...</td>\n      <td>...</td>\n      <td>...</td>\n      <td>...</td>\n      <td>...</td>\n      <td>...</td>\n      <td>...</td>\n      <td>...</td>\n    </tr>\n    <tr>\n      <th>64829</th>\n      <td>74DA38F7C26E</td>\n      <td>2020</td>\n      <td>7</td>\n      <td>23</td>\n      <td>10</td>\n      <td>4</td>\n      <td>24.997000</td>\n      <td>121.313000</td>\n      <td>99.555556</td>\n      <td>32.823333</td>\n      <td>93.555556</td>\n      <td>62.888889</td>\n      <td>67.888889</td>\n      <td>new_taipei</td>\n      <td>NaN</td>\n      <td>NaN</td>\n    </tr>\n    <tr>\n      <th>59673</th>\n      <td>74DA38EBF6AE</td>\n      <td>2020</td>\n      <td>7</td>\n      <td>23</td>\n      <td>4</td>\n      <td>4</td>\n      <td>23.716000</td>\n      <td>120.252000</td>\n      <td>96.333333</td>\n      <td>30.548889</td>\n      <td>93.555556</td>\n      <td>69.000000</td>\n      <td>64.333333</td>\n      <td>new_taipei</td>\n      <td>NaN</td>\n      <td>NaN</td>\n    </tr>\n    <tr>\n      <th>48667</th>\n      <td>08BEAC0288D6</td>\n      <td>2020</td>\n      <td>7</td>\n      <td>21</td>\n      <td>2</td>\n      <td>2</td>\n      <td>24.983695</td>\n      <td>121.250315</td>\n      <td>95.888889</td>\n      <td>31.750000</td>\n      <td>93.555556</td>\n      <td>83.666667</td>\n      <td>59.000000</td>\n      <td>new_taipei</td>\n      <td>NaN</td>\n      <td>NaN</td>\n    </tr>\n    <tr>\n      <th>48694</th>\n      <td>08BEAC0288D6</td>\n      <td>2020</td>\n      <td>7</td>\n      <td>24</td>\n      <td>1</td>\n      <td>5</td>\n      <td>24.983695</td>\n      <td>121.250315</td>\n      <td>98.700000</td>\n      <td>32.402000</td>\n      <td>95.000000</td>\n      <td>85.100000</td>\n      <td>56.000000</td>\n      <td>new_taipei</td>\n      <td>1.0</td>\n      <td>NaN</td>\n    </tr>\n    <tr>\n      <th>85440</th>\n      <td>08BEAC0AB772</td>\n      <td>2020</td>\n      <td>7</td>\n      <td>18</td>\n      <td>5</td>\n      <td>6</td>\n      <td>24.126391</td>\n      <td>120.667134</td>\n      <td>98.111111</td>\n      <td>28.020000</td>\n      <td>95.888889</td>\n      <td>92.555556</td>\n      <td>68.555556</td>\n      <td>taichuang</td>\n      <td>NaN</td>\n      <td>5.0</td>\n    </tr>\n  </tbody>\n</table>\n<p>142452 rows × 16 columns</p>\n</div>"
     },
     "execution_count": 72,
     "metadata": {},
     "output_type": "execute_result"
    }
   ],
   "source": [
    "#Remove all records whose PM2.5 is 0 (simple data cleaning process to remove impossible data values)\n",
    "df_PM25gt_0 = df.loc[df['PM2.5'] > 0]\n",
    "df_PM25gt_0"
   ],
   "metadata": {
    "collapsed": false,
    "pycharm": {
     "name": "#%%\n"
    }
   }
  },
  {
   "cell_type": "code",
   "execution_count": 78,
   "outputs": [
    {
     "data": {
      "text/plain": "<Figure size 432x288 with 1 Axes>",
      "image/png": "[encoded data removed]"
     },
     "metadata": {
      "needs_background": "light"
     },
     "output_type": "display_data"
    }
   ],
   "source": [
    "# Collect all records from Taipei and draw a histogram to shows how many hour PM2.5 records in each histogram bin interval. Set the histogram bin count to 100, the min value to 0 and max value to 100 to create the histogram.\n",
    "df_PM25gt_0_taipei = df_PM25gt_0[df_PM25gt_0['area'] == 'taipei'][['area', 'PM2.5']]\n",
    "df_PM25gt_0_taipei.hist(bins=100);"
   ],
   "metadata": {
    "collapsed": false,
    "pycharm": {
     "name": "#%%\n"
    }
   }
  },
  {
   "cell_type": "code",
   "execution_count": 79,
   "outputs": [
    {
     "data": {
      "text/plain": "<Figure size 432x288 with 1 Axes>",
      "image/png": "[encoded data removed]"
     },
     "metadata": {
      "needs_background": "light"
     },
     "output_type": "display_data"
    }
   ],
   "source": [
    "# Repeat the above step to draw a histogram for Tainan\n",
    "df_PM25gt_0_taipei = df_PM25gt_0[df_PM25gt_0['area'] == 'tainan'][['area', 'PM2.5']]\n",
    "df_PM25gt_0_taipei.hist(bins=100);"
   ],
   "metadata": {
    "collapsed": false,
    "pycharm": {
     "name": "#%%\n"
    }
   }
  },
  {
   "cell_type": "code",
   "execution_count": 89,
   "outputs": [
    {
     "data": {
      "text/plain": "              siteID  year  month  day  hour  weekday  gps_lat  gps_lon  \\\n118729  74DA38AF47A2  2020      7   24    15        5   25.057  121.517   \n108778  74DA38B050BA  2020      7   24    16        5   22.991  120.223   \n108611  74DA38B050B6  2020      7   24    18        5   22.995  120.163   \n108252  74DA38AF48DC  2020      7   23    21        4   23.012  120.187   \n120944  74DA38B051F4  2020      7   22    22        3   25.034  121.525   \n...              ...   ...    ...  ...   ...      ...      ...      ...   \n113633  74DA38EBF8AC  2020      7   24    11        5   23.233  120.180   \n113545  74DA38EBF8AC  2020      7   18    14        6   23.233  120.180   \n113600  74DA38EBF8AC  2020      7   22    11        3   23.233  120.180   \n113570  74DA38EBF8AC  2020      7   20     9        1   23.233  120.180   \n113547  74DA38EBF8AC  2020      7   18    20        6   23.233  120.180   \n\n             PM10        Tmp      PM2.5      PM1.0          RH    area  \\\n118729   0.181818  30.552727   0.090909   0.000000   75.272727  taipei   \n108778   0.090909  34.754545   0.090909   0.000000  100.000000  tainan   \n108611   0.090909  35.070000   0.090909   0.090909  100.000000  tainan   \n108252   0.090909  28.573636   0.090909   0.000000   68.272727  tainan   \n120944   0.090909  29.855455   0.090909   0.000000   63.090909  taipei   \n...           ...        ...        ...        ...         ...     ...   \n113633  94.777778  32.620000  89.666667  71.666667   72.555556  tainan   \n113545  94.600000  32.919000  90.200000  70.300000   71.800000  tainan   \n113600  94.900000  33.094000  91.000000  71.100000   71.200000  tainan   \n113570  95.900000  32.041000  91.200000  70.700000   69.600000  tainan   \n113547  98.777778  32.906667  93.111111  72.111111   75.000000  tainan   \n\n        Friday_PM2.5  Saturday_PM2.5  \n118729          15.0             NaN  \n108778          16.0             NaN  \n108611          18.0             NaN  \n108252           NaN             NaN  \n120944           NaN             NaN  \n...              ...             ...  \n113633          11.0             NaN  \n113545           NaN            14.0  \n113600           NaN             NaN  \n113570           NaN             NaN  \n113547           NaN            20.0  \n\n[27130 rows x 16 columns]",
      "text/html": "<div>\n<style scoped>\n    .dataframe tbody tr th:only-of-type {\n        vertical-align: middle;\n    }\n\n    .dataframe tbody tr th {\n        vertical-align: top;\n    }\n\n    .dataframe thead th {\n        text-align: right;\n    }\n</style>\n<table border=\"1\" class=\"dataframe\">\n  <thead>\n    <tr style=\"text-align: right;\">\n      <th></th>\n      <th>siteID</th>\n      <th>year</th>\n      <th>month</th>\n      <th>day</th>\n      <th>hour</th>\n      <th>weekday</th>\n      <th>gps_lat</th>\n      <th>gps_lon</th>\n      <th>PM10</th>\n      <th>Tmp</th>\n      <th>PM2.5</th>\n      <th>PM1.0</th>\n      <th>RH</th>\n      <th>area</th>\n      <th>Friday_PM2.5</th>\n      <th>Saturday_PM2.5</th>\n    </tr>\n  </thead>\n  <tbody>\n    <tr>\n      <th>118729</th>\n      <td>74DA38AF47A2</td>\n      <td>2020</td>\n      <td>7</td>\n      <td>24</td>\n      <td>15</td>\n      <td>5</td>\n      <td>25.057</td>\n      <td>121.517</td>\n      <td>0.181818</td>\n      <td>30.552727</td>\n      <td>0.090909</td>\n      <td>0.000000</td>\n      <td>75.272727</td>\n      <td>taipei</td>\n      <td>15.0</td>\n      <td>NaN</td>\n    </tr>\n    <tr>\n      <th>108778</th>\n      <td>74DA38B050BA</td>\n      <td>2020</td>\n      <td>7</td>\n      <td>24</td>\n      <td>16</td>\n      <td>5</td>\n      <td>22.991</td>\n      <td>120.223</td>\n      <td>0.090909</td>\n      <td>34.754545</td>\n      <td>0.090909</td>\n      <td>0.000000</td>\n      <td>100.000000</td>\n      <td>tainan</td>\n      <td>16.0</td>\n      <td>NaN</td>\n    </tr>\n    <tr>\n      <th>108611</th>\n      <td>74DA38B050B6</td>\n      <td>2020</td>\n      <td>7</td>\n      <td>24</td>\n      <td>18</td>\n      <td>5</td>\n      <td>22.995</td>\n      <td>120.163</td>\n      <td>0.090909</td>\n      <td>35.070000</td>\n      <td>0.090909</td>\n      <td>0.090909</td>\n      <td>100.000000</td>\n      <td>tainan</td>\n      <td>18.0</td>\n      <td>NaN</td>\n    </tr>\n    <tr>\n      <th>108252</th>\n      <td>74DA38AF48DC</td>\n      <td>2020</td>\n      <td>7</td>\n      <td>23</td>\n      <td>21</td>\n      <td>4</td>\n      <td>23.012</td>\n      <td>120.187</td>\n      <td>0.090909</td>\n      <td>28.573636</td>\n      <td>0.090909</td>\n      <td>0.000000</td>\n      <td>68.272727</td>\n      <td>tainan</td>\n      <td>NaN</td>\n      <td>NaN</td>\n    </tr>\n    <tr>\n      <th>120944</th>\n      <td>74DA38B051F4</td>\n      <td>2020</td>\n      <td>7</td>\n      <td>22</td>\n      <td>22</td>\n      <td>3</td>\n      <td>25.034</td>\n      <td>121.525</td>\n      <td>0.090909</td>\n      <td>29.855455</td>\n      <td>0.090909</td>\n      <td>0.000000</td>\n      <td>63.090909</td>\n      <td>taipei</td>\n      <td>NaN</td>\n      <td>NaN</td>\n    </tr>\n    <tr>\n      <th>...</th>\n      <td>...</td>\n      <td>...</td>\n      <td>...</td>\n      <td>...</td>\n      <td>...</td>\n      <td>...</td>\n      <td>...</td>\n      <td>...</td>\n      <td>...</td>\n      <td>...</td>\n      <td>...</td>\n      <td>...</td>\n      <td>...</td>\n      <td>...</td>\n      <td>...</td>\n      <td>...</td>\n    </tr>\n    <tr>\n      <th>113633</th>\n      <td>74DA38EBF8AC</td>\n      <td>2020</td>\n      <td>7</td>\n      <td>24</td>\n      <td>11</td>\n      <td>5</td>\n      <td>23.233</td>\n      <td>120.180</td>\n      <td>94.777778</td>\n      <td>32.620000</td>\n      <td>89.666667</td>\n      <td>71.666667</td>\n      <td>72.555556</td>\n      <td>tainan</td>\n      <td>11.0</td>\n      <td>NaN</td>\n    </tr>\n    <tr>\n      <th>113545</th>\n      <td>74DA38EBF8AC</td>\n      <td>2020</td>\n      <td>7</td>\n      <td>18</td>\n      <td>14</td>\n      <td>6</td>\n      <td>23.233</td>\n      <td>120.180</td>\n      <td>94.600000</td>\n      <td>32.919000</td>\n      <td>90.200000</td>\n      <td>70.300000</td>\n      <td>71.800000</td>\n      <td>tainan</td>\n      <td>NaN</td>\n      <td>14.0</td>\n    </tr>\n    <tr>\n      <th>113600</th>\n      <td>74DA38EBF8AC</td>\n      <td>2020</td>\n      <td>7</td>\n      <td>22</td>\n      <td>11</td>\n      <td>3</td>\n      <td>23.233</td>\n      <td>120.180</td>\n      <td>94.900000</td>\n      <td>33.094000</td>\n      <td>91.000000</td>\n      <td>71.100000</td>\n      <td>71.200000</td>\n      <td>tainan</td>\n      <td>NaN</td>\n      <td>NaN</td>\n    </tr>\n    <tr>\n      <th>113570</th>\n      <td>74DA38EBF8AC</td>\n      <td>2020</td>\n      <td>7</td>\n      <td>20</td>\n      <td>9</td>\n      <td>1</td>\n      <td>23.233</td>\n      <td>120.180</td>\n      <td>95.900000</td>\n      <td>32.041000</td>\n      <td>91.200000</td>\n      <td>70.700000</td>\n      <td>69.600000</td>\n      <td>tainan</td>\n      <td>NaN</td>\n      <td>NaN</td>\n    </tr>\n    <tr>\n      <th>113547</th>\n      <td>74DA38EBF8AC</td>\n      <td>2020</td>\n      <td>7</td>\n      <td>18</td>\n      <td>20</td>\n      <td>6</td>\n      <td>23.233</td>\n      <td>120.180</td>\n      <td>98.777778</td>\n      <td>32.906667</td>\n      <td>93.111111</td>\n      <td>72.111111</td>\n      <td>75.000000</td>\n      <td>tainan</td>\n      <td>NaN</td>\n      <td>20.0</td>\n    </tr>\n  </tbody>\n</table>\n<p>27130 rows × 16 columns</p>\n</div>"
     },
     "execution_count": 89,
     "metadata": {},
     "output_type": "execute_result"
    }
   ],
   "source": [
    "# Observe these two histograms to answer which city has a better air quality in the time span of the dataset and explain your answer.\n",
    "df_PM25gt_0_taipei_and_tainan = df_PM25gt_0[df_PM25gt_0['area'].isin(['taipei', 'tainan'])]\n",
    "\n",
    "\n",
    "df_PM25gt_0_taipei_and_tainan"
   ],
   "metadata": {
    "collapsed": false,
    "pycharm": {
     "name": "#%%\n"
    }
   }
  },
  {
   "cell_type": "code",
   "execution_count": 90,
   "outputs": [
    {
     "data": {
      "text/plain": "<seaborn.axisgrid.FacetGrid at 0x1770e3430>"
     },
     "execution_count": 90,
     "metadata": {},
     "output_type": "execute_result"
    },
    {
     "data": {
      "text/plain": "<Figure size 360x360 with 1 Axes>",
      "image/png": "[encoded data removed]"
     },
     "metadata": {
      "needs_background": "light"
     },
     "output_type": "display_data"
    }
   ],
   "source": [
    "sns.catplot(x='area', y='PM2.5',kind='bar',hue='area', data=df_PM25gt_0_taipei_and_tainan)"
   ],
   "metadata": {
    "collapsed": false,
    "pycharm": {
     "name": "#%%\n"
    }
   }
  },
  {
   "cell_type": "code",
   "execution_count": null,
   "outputs": [],
   "source": [],
   "metadata": {
    "collapsed": false,
    "pycharm": {
     "name": "#%%\n"
    }
   }
  }
 ],
 "metadata": {
  "kernelspec": {
   "display_name": "Python 3",
   "language": "python",
   "name": "python3"
  },
  "language_info": {
   "codemirror_mode": {
    "name": "ipython",
    "version": 2
   },
   "file_extension": ".py",
   "mimetype": "text/x-python",
   "name": "python",
   "nbconvert_exporter": "python",
   "pygments_lexer": "ipython2",
   "version": "2.7.6"
  }
 },
 "nbformat": 4,
 "nbformat_minor": 0
}